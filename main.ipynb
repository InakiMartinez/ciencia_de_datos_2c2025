{
 "cells": [
  {
   "cell_type": "markdown",
   "id": "b889250f",
   "metadata": {},
   "source": [
    "# Primer Parcial\n",
    "\n",
    "#### 01-4900 | 2C 2025"
   ]
  },
  {
   "cell_type": "markdown",
   "id": "4febd0f6",
   "metadata": {},
   "source": [
    "*Alumnos* :\n",
    "*   MARTINEZ CANNELLA, IÑAKI\n",
    "*   GHIANO, GONZALO AGUSTÍN\n",
    "*   CHAILE, FACUNDO MARTIN\n",
    "*   ALAZRAKI, MICAELA AGUSTINA\n",
    "*   RINAUDO, DIEGO NAHUEL\n",
    "\n",
    "*Grupo* :\n",
    "Data y Familia"
   ]
  },
  {
   "cell_type": "markdown",
   "id": "84354b60",
   "metadata": {},
   "source": [
    "## Enunciado"
   ]
  },
  {
   "cell_type": "markdown",
   "id": "ee93d17e",
   "metadata": {},
   "source": [
    "La empresa “Business Prop SRL” contrata nuestros servicios para que le desarrollemos un\n",
    "modelo que permita predecir si los departamentos vendidos pagan o no comisión, cuando su\n",
    "precio de venta sea superior a un determinado valor.\n",
    "Para ello, nos comparten un dataset llamado dptos_entrenamiento.csv, que contiene\n",
    "información de departamentos vendidos en distintos lugares de Argentina y el exterior. Este\n",
    "dataset será el que utilicemos para el entrenamiento del modelo construido.\n",
    "El dataset de predicción a utilizar es dptos_predecir.csv, el cual no contiene la etiqueta de la\n",
    "variable clase (por defecto viene indicada como “no paga”)."
   ]
  },
  {
   "cell_type": "markdown",
   "id": "b8d186fa",
   "metadata": {},
   "source": [
    "## Carga de Librerías"
   ]
  },
  {
   "cell_type": "code",
   "execution_count": 140,
   "id": "2414099d",
   "metadata": {},
   "outputs": [],
   "source": [
    "import pandas as pd\n",
    "import numpy as np\n",
    "import matplotlib.pyplot as plt\n",
    "import seaborn as sns\n",
    "\n",
    "# Agregamos modelos de ML\n",
    "from sklearn.model_selection import train_test_split\n",
    "from sklearn.preprocessing import LabelEncoder, OneHotEncoder, StandardScaler\n",
    "from sklearn.linear_model import LogisticRegression\n",
    "from sklearn.tree import DecisionTreeClassifier\n",
    "from sklearn.ensemble import RandomForestClassifier, GradientBoostingClassifier\n",
    "from sklearn.metrics import accuracy_score, confusion_matrix, classification_report\n",
    "from sklearn.metrics import make_scorer\n",
    "\n",
    "import os\n"
   ]
  },
  {
   "cell_type": "markdown",
   "id": "77e21e61",
   "metadata": {},
   "source": [
    "## Lectura de los dataset"
   ]
  },
  {
   "cell_type": "code",
   "execution_count": 141,
   "id": "ec160d7a",
   "metadata": {},
   "outputs": [
    {
     "name": "stdout",
     "output_type": "stream",
     "text": [
      "Datos de Entrenamiento: (76984, 21)\n"
     ]
    },
    {
     "data": {
      "text/html": [
       "<div>\n",
       "<style scoped>\n",
       "    .dataframe tbody tr th:only-of-type {\n",
       "        vertical-align: middle;\n",
       "    }\n",
       "\n",
       "    .dataframe tbody tr th {\n",
       "        vertical-align: top;\n",
       "    }\n",
       "\n",
       "    .dataframe thead th {\n",
       "        text-align: right;\n",
       "    }\n",
       "</style>\n",
       "<table border=\"1\" class=\"dataframe\">\n",
       "  <thead>\n",
       "    <tr style=\"text-align: right;\">\n",
       "      <th></th>\n",
       "      <th>id</th>\n",
       "      <th>ad_type</th>\n",
       "      <th>start_date</th>\n",
       "      <th>end_date</th>\n",
       "      <th>created_on</th>\n",
       "      <th>lat</th>\n",
       "      <th>lon</th>\n",
       "      <th>l1</th>\n",
       "      <th>l2</th>\n",
       "      <th>l3</th>\n",
       "      <th>...</th>\n",
       "      <th>l5</th>\n",
       "      <th>l6</th>\n",
       "      <th>rooms</th>\n",
       "      <th>bedrooms</th>\n",
       "      <th>bathrooms</th>\n",
       "      <th>surface_total</th>\n",
       "      <th>surface_covered</th>\n",
       "      <th>price_period</th>\n",
       "      <th>title</th>\n",
       "      <th>paga_comision</th>\n",
       "    </tr>\n",
       "  </thead>\n",
       "  <tbody>\n",
       "    <tr>\n",
       "      <th>0</th>\n",
       "      <td>RDfa+E7upD0n5pptEfHdMg==</td>\n",
       "      <td>Propiedad</td>\n",
       "      <td>2020-01-08</td>\n",
       "      <td>2020-01-11</td>\n",
       "      <td>2020-01-08</td>\n",
       "      <td>-37.999860</td>\n",
       "      <td>-57.555031</td>\n",
       "      <td>Argentina</td>\n",
       "      <td>Buenos Aires Costa Atlántica</td>\n",
       "      <td>Mar del Plata</td>\n",
       "      <td>...</td>\n",
       "      <td>NaN</td>\n",
       "      <td>NaN</td>\n",
       "      <td>NaN</td>\n",
       "      <td>NaN</td>\n",
       "      <td>1.0</td>\n",
       "      <td>NaN</td>\n",
       "      <td>NaN</td>\n",
       "      <td>NaN</td>\n",
       "      <td>Venta depto dos ambientes con frente abierto</td>\n",
       "      <td>no paga</td>\n",
       "    </tr>\n",
       "    <tr>\n",
       "      <th>1</th>\n",
       "      <td>mL0EoZeEqENVokwugUrtow==</td>\n",
       "      <td>Propiedad</td>\n",
       "      <td>2020-01-17</td>\n",
       "      <td>2020-01-21</td>\n",
       "      <td>2020-01-17</td>\n",
       "      <td>-34.566363</td>\n",
       "      <td>-58.438766</td>\n",
       "      <td>Argentina</td>\n",
       "      <td>Capital Federal</td>\n",
       "      <td>Palermo</td>\n",
       "      <td>...</td>\n",
       "      <td>NaN</td>\n",
       "      <td>NaN</td>\n",
       "      <td>4.0</td>\n",
       "      <td>3.0</td>\n",
       "      <td>1.0</td>\n",
       "      <td>81.0</td>\n",
       "      <td>75.0</td>\n",
       "      <td>NaN</td>\n",
       "      <td>VENTA 4 AMBIENTES C COCHERA FIJA MUY LUMINOSO</td>\n",
       "      <td>paga</td>\n",
       "    </tr>\n",
       "    <tr>\n",
       "      <th>2</th>\n",
       "      <td>hOZOY5Bo9FzB3IR8V6TtiA==</td>\n",
       "      <td>Propiedad</td>\n",
       "      <td>2019-11-15</td>\n",
       "      <td>9999-12-31</td>\n",
       "      <td>2019-11-15</td>\n",
       "      <td>-37.106865</td>\n",
       "      <td>-56.862300</td>\n",
       "      <td>Argentina</td>\n",
       "      <td>Buenos Aires Costa Atlántica</td>\n",
       "      <td>Pinamar</td>\n",
       "      <td>...</td>\n",
       "      <td>NaN</td>\n",
       "      <td>NaN</td>\n",
       "      <td>1.0</td>\n",
       "      <td>NaN</td>\n",
       "      <td>1.0</td>\n",
       "      <td>30.0</td>\n",
       "      <td>30.0</td>\n",
       "      <td>NaN</td>\n",
       "      <td>Monoambiente con entrepiso-A 150 mts de Av- Shaw-</td>\n",
       "      <td>no paga</td>\n",
       "    </tr>\n",
       "    <tr>\n",
       "      <th>3</th>\n",
       "      <td>JKfw+/BUerJ7cNjors3UBQ==</td>\n",
       "      <td>Propiedad</td>\n",
       "      <td>2019-07-14</td>\n",
       "      <td>9999-12-31</td>\n",
       "      <td>2019-07-14</td>\n",
       "      <td>NaN</td>\n",
       "      <td>NaN</td>\n",
       "      <td>Uruguay</td>\n",
       "      <td>Montevideo</td>\n",
       "      <td>NaN</td>\n",
       "      <td>...</td>\n",
       "      <td>NaN</td>\n",
       "      <td>NaN</td>\n",
       "      <td>3.0</td>\n",
       "      <td>2.0</td>\n",
       "      <td>1.0</td>\n",
       "      <td>62.0</td>\n",
       "      <td>54.0</td>\n",
       "      <td>Mensual</td>\n",
       "      <td>DEPARTAMENTO EN VENTA</td>\n",
       "      <td>no paga</td>\n",
       "    </tr>\n",
       "    <tr>\n",
       "      <th>4</th>\n",
       "      <td>SBDKF7R+J2C+n4gWm4JrOw==</td>\n",
       "      <td>Propiedad</td>\n",
       "      <td>2020-02-10</td>\n",
       "      <td>2020-04-28</td>\n",
       "      <td>2020-02-10</td>\n",
       "      <td>NaN</td>\n",
       "      <td>NaN</td>\n",
       "      <td>Argentina</td>\n",
       "      <td>Bs.As. G.B.A. Zona Norte</td>\n",
       "      <td>General San Martín</td>\n",
       "      <td>...</td>\n",
       "      <td>NaN</td>\n",
       "      <td>NaN</td>\n",
       "      <td>NaN</td>\n",
       "      <td>NaN</td>\n",
       "      <td>2.0</td>\n",
       "      <td>NaN</td>\n",
       "      <td>NaN</td>\n",
       "      <td>NaN</td>\n",
       "      <td>Departamento 3 ambientes a estrenar. Oportunid...</td>\n",
       "      <td>no paga</td>\n",
       "    </tr>\n",
       "  </tbody>\n",
       "</table>\n",
       "<p>5 rows × 21 columns</p>\n",
       "</div>"
      ],
      "text/plain": [
       "                         id    ad_type  start_date    end_date  created_on  \\\n",
       "0  RDfa+E7upD0n5pptEfHdMg==  Propiedad  2020-01-08  2020-01-11  2020-01-08   \n",
       "1  mL0EoZeEqENVokwugUrtow==  Propiedad  2020-01-17  2020-01-21  2020-01-17   \n",
       "2  hOZOY5Bo9FzB3IR8V6TtiA==  Propiedad  2019-11-15  9999-12-31  2019-11-15   \n",
       "3  JKfw+/BUerJ7cNjors3UBQ==  Propiedad  2019-07-14  9999-12-31  2019-07-14   \n",
       "4  SBDKF7R+J2C+n4gWm4JrOw==  Propiedad  2020-02-10  2020-04-28  2020-02-10   \n",
       "\n",
       "         lat        lon         l1                            l2  \\\n",
       "0 -37.999860 -57.555031  Argentina  Buenos Aires Costa Atlántica   \n",
       "1 -34.566363 -58.438766  Argentina               Capital Federal   \n",
       "2 -37.106865 -56.862300  Argentina  Buenos Aires Costa Atlántica   \n",
       "3        NaN        NaN    Uruguay                    Montevideo   \n",
       "4        NaN        NaN  Argentina      Bs.As. G.B.A. Zona Norte   \n",
       "\n",
       "                   l3  ...   l5  l6  rooms  bedrooms  bathrooms  \\\n",
       "0       Mar del Plata  ...  NaN NaN    NaN       NaN        1.0   \n",
       "1             Palermo  ...  NaN NaN    4.0       3.0        1.0   \n",
       "2             Pinamar  ...  NaN NaN    1.0       NaN        1.0   \n",
       "3                 NaN  ...  NaN NaN    3.0       2.0        1.0   \n",
       "4  General San Martín  ...  NaN NaN    NaN       NaN        2.0   \n",
       "\n",
       "   surface_total  surface_covered  price_period  \\\n",
       "0            NaN              NaN           NaN   \n",
       "1           81.0             75.0           NaN   \n",
       "2           30.0             30.0           NaN   \n",
       "3           62.0             54.0       Mensual   \n",
       "4            NaN              NaN           NaN   \n",
       "\n",
       "                                               title paga_comision  \n",
       "0       Venta depto dos ambientes con frente abierto       no paga  \n",
       "1      VENTA 4 AMBIENTES C COCHERA FIJA MUY LUMINOSO          paga  \n",
       "2  Monoambiente con entrepiso-A 150 mts de Av- Shaw-       no paga  \n",
       "3                              DEPARTAMENTO EN VENTA       no paga  \n",
       "4  Departamento 3 ambientes a estrenar. Oportunid...       no paga  \n",
       "\n",
       "[5 rows x 21 columns]"
      ]
     },
     "execution_count": 141,
     "metadata": {},
     "output_type": "execute_result"
    }
   ],
   "source": [
    "# guardamos las url en variables\n",
    "url_train = 'https://raw.githubusercontent.com/pokengineer/DataScience/refs/heads/main/assessment/dptos_entrenamiento.csv'\n",
    "url_test = 'https://raw.githubusercontent.com/pokengineer/DataScience/refs/heads/main/assessment/dptos_predecir.csv'\n",
    "\n",
    "# leemos los datos\n",
    "df_train = pd.read_csv(url_train)\n",
    "df_test = pd.read_csv(url_test)\n",
    "\n",
    "# mostramos para tener una idea de como se ven los datos\n",
    "print(\"Datos de Entrenamiento:\", df_train.shape)\n",
    "df_train.head()"
   ]
  },
  {
   "cell_type": "markdown",
   "id": "9140c780",
   "metadata": {},
   "source": [
    "## Análisis Exploratorio"
   ]
  },
  {
   "cell_type": "markdown",
   "id": "8bf3faa2",
   "metadata": {},
   "source": [
    "### Vistazo general de las variables"
   ]
  },
  {
   "cell_type": "code",
   "execution_count": 142,
   "id": "aa3d138b",
   "metadata": {},
   "outputs": [
    {
     "data": {
      "text/html": [
       "<div>\n",
       "<style scoped>\n",
       "    .dataframe tbody tr th:only-of-type {\n",
       "        vertical-align: middle;\n",
       "    }\n",
       "\n",
       "    .dataframe tbody tr th {\n",
       "        vertical-align: top;\n",
       "    }\n",
       "\n",
       "    .dataframe thead th {\n",
       "        text-align: right;\n",
       "    }\n",
       "</style>\n",
       "<table border=\"1\" class=\"dataframe\">\n",
       "  <thead>\n",
       "    <tr style=\"text-align: right;\">\n",
       "      <th></th>\n",
       "      <th>count</th>\n",
       "      <th>unique</th>\n",
       "      <th>top</th>\n",
       "      <th>freq</th>\n",
       "      <th>mean</th>\n",
       "      <th>std</th>\n",
       "      <th>min</th>\n",
       "      <th>25%</th>\n",
       "      <th>50%</th>\n",
       "      <th>75%</th>\n",
       "      <th>max</th>\n",
       "    </tr>\n",
       "  </thead>\n",
       "  <tbody>\n",
       "    <tr>\n",
       "      <th>id</th>\n",
       "      <td>76984</td>\n",
       "      <td>76984</td>\n",
       "      <td>RDfa+E7upD0n5pptEfHdMg==</td>\n",
       "      <td>1</td>\n",
       "      <td>NaN</td>\n",
       "      <td>NaN</td>\n",
       "      <td>NaN</td>\n",
       "      <td>NaN</td>\n",
       "      <td>NaN</td>\n",
       "      <td>NaN</td>\n",
       "      <td>NaN</td>\n",
       "    </tr>\n",
       "    <tr>\n",
       "      <th>ad_type</th>\n",
       "      <td>76984</td>\n",
       "      <td>1</td>\n",
       "      <td>Propiedad</td>\n",
       "      <td>76984</td>\n",
       "      <td>NaN</td>\n",
       "      <td>NaN</td>\n",
       "      <td>NaN</td>\n",
       "      <td>NaN</td>\n",
       "      <td>NaN</td>\n",
       "      <td>NaN</td>\n",
       "      <td>NaN</td>\n",
       "    </tr>\n",
       "    <tr>\n",
       "      <th>start_date</th>\n",
       "      <td>76984</td>\n",
       "      <td>363</td>\n",
       "      <td>2020-01-08</td>\n",
       "      <td>2960</td>\n",
       "      <td>NaN</td>\n",
       "      <td>NaN</td>\n",
       "      <td>NaN</td>\n",
       "      <td>NaN</td>\n",
       "      <td>NaN</td>\n",
       "      <td>NaN</td>\n",
       "      <td>NaN</td>\n",
       "    </tr>\n",
       "    <tr>\n",
       "      <th>end_date</th>\n",
       "      <td>76984</td>\n",
       "      <td>257</td>\n",
       "      <td>9999-12-31</td>\n",
       "      <td>29793</td>\n",
       "      <td>NaN</td>\n",
       "      <td>NaN</td>\n",
       "      <td>NaN</td>\n",
       "      <td>NaN</td>\n",
       "      <td>NaN</td>\n",
       "      <td>NaN</td>\n",
       "      <td>NaN</td>\n",
       "    </tr>\n",
       "    <tr>\n",
       "      <th>created_on</th>\n",
       "      <td>76984</td>\n",
       "      <td>363</td>\n",
       "      <td>2020-01-08</td>\n",
       "      <td>2960</td>\n",
       "      <td>NaN</td>\n",
       "      <td>NaN</td>\n",
       "      <td>NaN</td>\n",
       "      <td>NaN</td>\n",
       "      <td>NaN</td>\n",
       "      <td>NaN</td>\n",
       "      <td>NaN</td>\n",
       "    </tr>\n",
       "    <tr>\n",
       "      <th>lat</th>\n",
       "      <td>67643.0</td>\n",
       "      <td>NaN</td>\n",
       "      <td>NaN</td>\n",
       "      <td>NaN</td>\n",
       "      <td>-34.774702</td>\n",
       "      <td>2.900237</td>\n",
       "      <td>-54.812682</td>\n",
       "      <td>-34.748868</td>\n",
       "      <td>-34.603771</td>\n",
       "      <td>-34.558653</td>\n",
       "      <td>47.545277</td>\n",
       "    </tr>\n",
       "    <tr>\n",
       "      <th>lon</th>\n",
       "      <td>67498.0</td>\n",
       "      <td>NaN</td>\n",
       "      <td>NaN</td>\n",
       "      <td>NaN</td>\n",
       "      <td>-58.833661</td>\n",
       "      <td>2.112804</td>\n",
       "      <td>-111.611617</td>\n",
       "      <td>-58.552874</td>\n",
       "      <td>-58.437044</td>\n",
       "      <td>-58.363745</td>\n",
       "      <td>-48.38763</td>\n",
       "    </tr>\n",
       "    <tr>\n",
       "      <th>l1</th>\n",
       "      <td>76984</td>\n",
       "      <td>4</td>\n",
       "      <td>Argentina</td>\n",
       "      <td>74447</td>\n",
       "      <td>NaN</td>\n",
       "      <td>NaN</td>\n",
       "      <td>NaN</td>\n",
       "      <td>NaN</td>\n",
       "      <td>NaN</td>\n",
       "      <td>NaN</td>\n",
       "      <td>NaN</td>\n",
       "    </tr>\n",
       "    <tr>\n",
       "      <th>l2</th>\n",
       "      <td>76984</td>\n",
       "      <td>31</td>\n",
       "      <td>Capital Federal</td>\n",
       "      <td>32608</td>\n",
       "      <td>NaN</td>\n",
       "      <td>NaN</td>\n",
       "      <td>NaN</td>\n",
       "      <td>NaN</td>\n",
       "      <td>NaN</td>\n",
       "      <td>NaN</td>\n",
       "      <td>NaN</td>\n",
       "    </tr>\n",
       "    <tr>\n",
       "      <th>l3</th>\n",
       "      <td>72486</td>\n",
       "      <td>294</td>\n",
       "      <td>Mar del Plata</td>\n",
       "      <td>9735</td>\n",
       "      <td>NaN</td>\n",
       "      <td>NaN</td>\n",
       "      <td>NaN</td>\n",
       "      <td>NaN</td>\n",
       "      <td>NaN</td>\n",
       "      <td>NaN</td>\n",
       "      <td>NaN</td>\n",
       "    </tr>\n",
       "    <tr>\n",
       "      <th>l4</th>\n",
       "      <td>14777</td>\n",
       "      <td>286</td>\n",
       "      <td>Nordelta</td>\n",
       "      <td>1062</td>\n",
       "      <td>NaN</td>\n",
       "      <td>NaN</td>\n",
       "      <td>NaN</td>\n",
       "      <td>NaN</td>\n",
       "      <td>NaN</td>\n",
       "      <td>NaN</td>\n",
       "      <td>NaN</td>\n",
       "    </tr>\n",
       "    <tr>\n",
       "      <th>l5</th>\n",
       "      <td>159</td>\n",
       "      <td>12</td>\n",
       "      <td>BarrioPortezuelo</td>\n",
       "      <td>65</td>\n",
       "      <td>NaN</td>\n",
       "      <td>NaN</td>\n",
       "      <td>NaN</td>\n",
       "      <td>NaN</td>\n",
       "      <td>NaN</td>\n",
       "      <td>NaN</td>\n",
       "      <td>NaN</td>\n",
       "    </tr>\n",
       "    <tr>\n",
       "      <th>l6</th>\n",
       "      <td>0.0</td>\n",
       "      <td>NaN</td>\n",
       "      <td>NaN</td>\n",
       "      <td>NaN</td>\n",
       "      <td>NaN</td>\n",
       "      <td>NaN</td>\n",
       "      <td>NaN</td>\n",
       "      <td>NaN</td>\n",
       "      <td>NaN</td>\n",
       "      <td>NaN</td>\n",
       "      <td>NaN</td>\n",
       "    </tr>\n",
       "    <tr>\n",
       "      <th>rooms</th>\n",
       "      <td>59968.0</td>\n",
       "      <td>NaN</td>\n",
       "      <td>NaN</td>\n",
       "      <td>NaN</td>\n",
       "      <td>2.484242</td>\n",
       "      <td>1.170088</td>\n",
       "      <td>1.0</td>\n",
       "      <td>2.0</td>\n",
       "      <td>2.0</td>\n",
       "      <td>3.0</td>\n",
       "      <td>21.0</td>\n",
       "    </tr>\n",
       "    <tr>\n",
       "      <th>bedrooms</th>\n",
       "      <td>38049.0</td>\n",
       "      <td>NaN</td>\n",
       "      <td>NaN</td>\n",
       "      <td>NaN</td>\n",
       "      <td>1.669637</td>\n",
       "      <td>1.910154</td>\n",
       "      <td>0.0</td>\n",
       "      <td>1.0</td>\n",
       "      <td>1.0</td>\n",
       "      <td>2.0</td>\n",
       "      <td>303.0</td>\n",
       "    </tr>\n",
       "    <tr>\n",
       "      <th>bathrooms</th>\n",
       "      <td>71826.0</td>\n",
       "      <td>NaN</td>\n",
       "      <td>NaN</td>\n",
       "      <td>NaN</td>\n",
       "      <td>1.386796</td>\n",
       "      <td>0.712066</td>\n",
       "      <td>1.0</td>\n",
       "      <td>1.0</td>\n",
       "      <td>1.0</td>\n",
       "      <td>2.0</td>\n",
       "      <td>11.0</td>\n",
       "    </tr>\n",
       "    <tr>\n",
       "      <th>surface_total</th>\n",
       "      <td>43049.0</td>\n",
       "      <td>NaN</td>\n",
       "      <td>NaN</td>\n",
       "      <td>NaN</td>\n",
       "      <td>90.580757</td>\n",
       "      <td>459.833271</td>\n",
       "      <td>0.0</td>\n",
       "      <td>43.0</td>\n",
       "      <td>60.0</td>\n",
       "      <td>89.0</td>\n",
       "      <td>61100.0</td>\n",
       "    </tr>\n",
       "    <tr>\n",
       "      <th>surface_covered</th>\n",
       "      <td>45717.0</td>\n",
       "      <td>NaN</td>\n",
       "      <td>NaN</td>\n",
       "      <td>NaN</td>\n",
       "      <td>81.368856</td>\n",
       "      <td>845.081843</td>\n",
       "      <td>1.0</td>\n",
       "      <td>40.0</td>\n",
       "      <td>53.0</td>\n",
       "      <td>78.0</td>\n",
       "      <td>148000.0</td>\n",
       "    </tr>\n",
       "    <tr>\n",
       "      <th>price_period</th>\n",
       "      <td>25755</td>\n",
       "      <td>1</td>\n",
       "      <td>Mensual</td>\n",
       "      <td>25755</td>\n",
       "      <td>NaN</td>\n",
       "      <td>NaN</td>\n",
       "      <td>NaN</td>\n",
       "      <td>NaN</td>\n",
       "      <td>NaN</td>\n",
       "      <td>NaN</td>\n",
       "      <td>NaN</td>\n",
       "    </tr>\n",
       "    <tr>\n",
       "      <th>title</th>\n",
       "      <td>76984</td>\n",
       "      <td>47234</td>\n",
       "      <td>DEPARTAMENTO EN VENTA</td>\n",
       "      <td>799</td>\n",
       "      <td>NaN</td>\n",
       "      <td>NaN</td>\n",
       "      <td>NaN</td>\n",
       "      <td>NaN</td>\n",
       "      <td>NaN</td>\n",
       "      <td>NaN</td>\n",
       "      <td>NaN</td>\n",
       "    </tr>\n",
       "    <tr>\n",
       "      <th>paga_comision</th>\n",
       "      <td>76984</td>\n",
       "      <td>2</td>\n",
       "      <td>no paga</td>\n",
       "      <td>68212</td>\n",
       "      <td>NaN</td>\n",
       "      <td>NaN</td>\n",
       "      <td>NaN</td>\n",
       "      <td>NaN</td>\n",
       "      <td>NaN</td>\n",
       "      <td>NaN</td>\n",
       "      <td>NaN</td>\n",
       "    </tr>\n",
       "  </tbody>\n",
       "</table>\n",
       "</div>"
      ],
      "text/plain": [
       "                   count unique                       top   freq       mean  \\\n",
       "id                 76984  76984  RDfa+E7upD0n5pptEfHdMg==      1        NaN   \n",
       "ad_type            76984      1                 Propiedad  76984        NaN   \n",
       "start_date         76984    363                2020-01-08   2960        NaN   \n",
       "end_date           76984    257                9999-12-31  29793        NaN   \n",
       "created_on         76984    363                2020-01-08   2960        NaN   \n",
       "lat              67643.0    NaN                       NaN    NaN -34.774702   \n",
       "lon              67498.0    NaN                       NaN    NaN -58.833661   \n",
       "l1                 76984      4                 Argentina  74447        NaN   \n",
       "l2                 76984     31           Capital Federal  32608        NaN   \n",
       "l3                 72486    294             Mar del Plata   9735        NaN   \n",
       "l4                 14777    286                  Nordelta   1062        NaN   \n",
       "l5                   159     12          BarrioPortezuelo     65        NaN   \n",
       "l6                   0.0    NaN                       NaN    NaN        NaN   \n",
       "rooms            59968.0    NaN                       NaN    NaN   2.484242   \n",
       "bedrooms         38049.0    NaN                       NaN    NaN   1.669637   \n",
       "bathrooms        71826.0    NaN                       NaN    NaN   1.386796   \n",
       "surface_total    43049.0    NaN                       NaN    NaN  90.580757   \n",
       "surface_covered  45717.0    NaN                       NaN    NaN  81.368856   \n",
       "price_period       25755      1                   Mensual  25755        NaN   \n",
       "title              76984  47234     DEPARTAMENTO EN VENTA    799        NaN   \n",
       "paga_comision      76984      2                   no paga  68212        NaN   \n",
       "\n",
       "                        std         min        25%        50%        75%  \\\n",
       "id                      NaN         NaN        NaN        NaN        NaN   \n",
       "ad_type                 NaN         NaN        NaN        NaN        NaN   \n",
       "start_date              NaN         NaN        NaN        NaN        NaN   \n",
       "end_date                NaN         NaN        NaN        NaN        NaN   \n",
       "created_on              NaN         NaN        NaN        NaN        NaN   \n",
       "lat                2.900237  -54.812682 -34.748868 -34.603771 -34.558653   \n",
       "lon                2.112804 -111.611617 -58.552874 -58.437044 -58.363745   \n",
       "l1                      NaN         NaN        NaN        NaN        NaN   \n",
       "l2                      NaN         NaN        NaN        NaN        NaN   \n",
       "l3                      NaN         NaN        NaN        NaN        NaN   \n",
       "l4                      NaN         NaN        NaN        NaN        NaN   \n",
       "l5                      NaN         NaN        NaN        NaN        NaN   \n",
       "l6                      NaN         NaN        NaN        NaN        NaN   \n",
       "rooms              1.170088         1.0        2.0        2.0        3.0   \n",
       "bedrooms           1.910154         0.0        1.0        1.0        2.0   \n",
       "bathrooms          0.712066         1.0        1.0        1.0        2.0   \n",
       "surface_total    459.833271         0.0       43.0       60.0       89.0   \n",
       "surface_covered  845.081843         1.0       40.0       53.0       78.0   \n",
       "price_period            NaN         NaN        NaN        NaN        NaN   \n",
       "title                   NaN         NaN        NaN        NaN        NaN   \n",
       "paga_comision           NaN         NaN        NaN        NaN        NaN   \n",
       "\n",
       "                       max  \n",
       "id                     NaN  \n",
       "ad_type                NaN  \n",
       "start_date             NaN  \n",
       "end_date               NaN  \n",
       "created_on             NaN  \n",
       "lat              47.545277  \n",
       "lon              -48.38763  \n",
       "l1                     NaN  \n",
       "l2                     NaN  \n",
       "l3                     NaN  \n",
       "l4                     NaN  \n",
       "l5                     NaN  \n",
       "l6                     NaN  \n",
       "rooms                 21.0  \n",
       "bedrooms             303.0  \n",
       "bathrooms             11.0  \n",
       "surface_total      61100.0  \n",
       "surface_covered   148000.0  \n",
       "price_period           NaN  \n",
       "title                  NaN  \n",
       "paga_comision          NaN  "
      ]
     },
     "metadata": {},
     "output_type": "display_data"
    }
   ],
   "source": [
    "display(df_train.describe(include='all').transpose())"
   ]
  },
  {
   "cell_type": "markdown",
   "id": "7d6fbeab",
   "metadata": {},
   "source": [
    "### Analizando Variables Predictoras"
   ]
  },
  {
   "cell_type": "code",
   "execution_count": 143,
   "id": "64ef19a3",
   "metadata": {},
   "outputs": [],
   "source": [
    "## La columna ID no tiene nulos ni repetidos, podemos usarla como indice\n",
    "df_train.set_index('id', inplace=True)"
   ]
  },
  {
   "cell_type": "code",
   "execution_count": 144,
   "id": "23358c7d",
   "metadata": {},
   "outputs": [],
   "source": [
    "variables_a_eliminar = []"
   ]
  },
  {
   "cell_type": "markdown",
   "id": "88cffaf0",
   "metadata": {},
   "source": [
    "ad_type"
   ]
  },
  {
   "cell_type": "code",
   "execution_count": 145,
   "id": "a46e31a8",
   "metadata": {},
   "outputs": [
    {
     "name": "stdout",
     "output_type": "stream",
     "text": [
      "object\n",
      "['Propiedad']\n"
     ]
    }
   ],
   "source": [
    "## Un solo valor para todo el dataset, sin nulos, no tiene valor predictivo. Podemos eliminarla\n",
    "print(df_train[\"ad_type\"].dtype)\n",
    "print(df_train[\"ad_type\"].unique())\n",
    "\n",
    "variables_a_eliminar.append(\"ad_type\")"
   ]
  },
  {
   "cell_type": "markdown",
   "id": "b90452ba",
   "metadata": {},
   "source": [
    "start_date"
   ]
  },
  {
   "cell_type": "code",
   "execution_count": 146,
   "id": "cf7b52db",
   "metadata": {},
   "outputs": [],
   "source": [
    "## Preguntar en clase, por ahora vacio"
   ]
  },
  {
   "cell_type": "markdown",
   "id": "634eca91",
   "metadata": {},
   "source": [
    "end_date"
   ]
  },
  {
   "cell_type": "code",
   "execution_count": 147,
   "id": "f3491413",
   "metadata": {},
   "outputs": [],
   "source": [
    "## Preguntar en clase, por ahora vacio"
   ]
  },
  {
   "cell_type": "markdown",
   "id": "292e8601",
   "metadata": {},
   "source": [
    "created_on"
   ]
  },
  {
   "cell_type": "code",
   "execution_count": 148,
   "id": "cc7f7a64",
   "metadata": {},
   "outputs": [],
   "source": [
    "## Preguntar en clase, por ahora vacio"
   ]
  },
  {
   "cell_type": "markdown",
   "id": "7b02226a",
   "metadata": {},
   "source": [
    "l1"
   ]
  },
  {
   "cell_type": "code",
   "execution_count": 149,
   "id": "a0f6b2b9",
   "metadata": {},
   "outputs": [
    {
     "name": "stdout",
     "output_type": "stream",
     "text": [
      "Variable: l1\n",
      "Tipo de dato: object\n",
      "Row count: 76984\n",
      "Null count: 0\n",
      "Valores únicos\n",
      "['Argentina' 'Uruguay' 'Estados Unidos' 'Brasil']\n"
     ]
    }
   ],
   "source": [
    "dtype = df_train[\"l1\"].dtype\n",
    "row_count = df_train[\"l1\"].count()\n",
    "null_count = df_train[\"l1\"].isnull().sum()\n",
    "unique = df_train[\"l1\"].unique()\n",
    "\n",
    "print(\"Variable: l1\")\n",
    "print(f\"Tipo de dato: {dtype}\")\n",
    "print(f\"Row count: {row_count}\")\n",
    "print(f\"Null count: {null_count}\")\n",
    "print(\"Valores únicos\")\n",
    "print(unique)"
   ]
  },
  {
   "cell_type": "markdown",
   "id": "ad8fdfab",
   "metadata": {},
   "source": [
    "l2"
   ]
  },
  {
   "cell_type": "code",
   "execution_count": 150,
   "id": "40d5b9e8",
   "metadata": {},
   "outputs": [
    {
     "name": "stdout",
     "output_type": "stream",
     "text": [
      "Variable: l2\n",
      "Tipo de dato: object\n",
      "Row count: 76984\n",
      "Null count: 0\n",
      "Valores únicos\n",
      "['Buenos Aires Costa Atlántica' 'Capital Federal' 'Montevideo'\n",
      " 'Bs.As. G.B.A. Zona Norte' 'Bs.As. G.B.A. Zona Sur' 'Córdoba' 'Santa Fe'\n",
      " 'Maldonado' 'Bs.As. G.B.A. Zona Oeste' 'Mendoza' 'Buenos Aires Interior'\n",
      " 'Neuquén' 'Canelones' 'Tucumán' 'Entre Ríos' 'Florida' 'Catamarca'\n",
      " 'Río Negro' 'Misiones' 'Jujuy' 'La Pampa' 'Colonia' 'Miami' 'Chaco'\n",
      " 'Santa Catarina' 'Salta' 'Corrientes' 'Chubut' 'San Juan' 'San Luis'\n",
      " 'Tierra Del Fuego']\n"
     ]
    }
   ],
   "source": [
    "dtype = df_train[\"l2\"].dtype\n",
    "row_count = df_train[\"l2\"].count()\n",
    "null_count = df_train[\"l2\"].isnull().sum()\n",
    "unique = df_train[\"l2\"].unique()\n",
    "\n",
    "print(\"Variable: l2\")\n",
    "print(f\"Tipo de dato: {dtype}\")\n",
    "print(f\"Row count: {row_count}\")\n",
    "print(f\"Null count: {null_count}\")\n",
    "print(\"Valores únicos\")\n",
    "print(unique)"
   ]
  },
  {
   "cell_type": "markdown",
   "id": "fb67a0db",
   "metadata": {},
   "source": [
    "l3"
   ]
  },
  {
   "cell_type": "code",
   "execution_count": 151,
   "id": "e27a440f",
   "metadata": {},
   "outputs": [
    {
     "name": "stdout",
     "output_type": "stream",
     "text": [
      "Variable: l3\n",
      "Tipo de dato: object\n",
      "Row count: 72486\n",
      "Null count: 4498\n",
      "Valores únicos: 295\n"
     ]
    }
   ],
   "source": [
    "dtype = df_train[\"l3\"].dtype\n",
    "row_count = df_train[\"l3\"].count()\n",
    "null_count = df_train[\"l3\"].isnull().sum()\n",
    "unique_count = len(df_train[\"l3\"].unique())\n",
    "\n",
    "print(\"Variable: l3\")\n",
    "print(f\"Tipo de dato: {dtype}\")\n",
    "print(f\"Row count: {row_count}\")\n",
    "print(f\"Null count: {null_count}\")\n",
    "print(f\"Valores únicos: {unique_count}\")"
   ]
  },
  {
   "cell_type": "code",
   "execution_count": 152,
   "id": "6d19416c",
   "metadata": {},
   "outputs": [],
   "source": [
    "## De los 295 valores que puede tomar la variable, 57 aparecen solo una vez.\n",
    "l3_count = df_train.groupby('l3').size().reset_index(name='count')\n",
    "l3_count.loc[l3_count[\"count\"] < 2].count()\n",
    "\n",
    "# Decidimos quitar la variable por ahora.\n",
    "variables_a_eliminar.append(\"l3\")"
   ]
  },
  {
   "cell_type": "markdown",
   "id": "94229fa5",
   "metadata": {},
   "source": [
    "l4, l5 y l6"
   ]
  },
  {
   "cell_type": "code",
   "execution_count": 153,
   "id": "04bd846d",
   "metadata": {},
   "outputs": [
    {
     "name": "stdout",
     "output_type": "stream",
     "text": [
      "Conteo l4: 14777\n",
      "Conteo l5: 159\n",
      "Conteo l6: 0\n"
     ]
    }
   ],
   "source": [
    "l4_row_count = df_train[\"l4\"].count()\n",
    "l5_row_count = df_train[\"l5\"].count()\n",
    "l6_row_count = df_train[\"l6\"].count()\n",
    "\n",
    "print(f\"Conteo l4: {l4_row_count}\")\n",
    "print(f\"Conteo l5: {l5_row_count}\")\n",
    "print(f\"Conteo l6: {l6_row_count}\")\n",
    "\n",
    "# Row count muy bajo, las eliminamos\n",
    "variables_a_eliminar.append(\"l4\")\n",
    "variables_a_eliminar.append(\"l5\")\n",
    "variables_a_eliminar.append(\"l6\")"
   ]
  },
  {
   "cell_type": "markdown",
   "id": "7884b3f7",
   "metadata": {},
   "source": [
    "lat"
   ]
  },
  {
   "cell_type": "code",
   "execution_count": 154,
   "id": "70850ba7",
   "metadata": {},
   "outputs": [
    {
     "name": "stdout",
     "output_type": "stream",
     "text": [
      "Variable: lat\n",
      "Tipo de dato: float64\n",
      "Row count: 67643\n",
      "Null count: 9341\n"
     ]
    }
   ],
   "source": [
    "# Si no tuvieramos las variables l1 y l2 podría sernos útil, en este caso la descartamos.\n",
    "\n",
    "dtype = df_train[\"lat\"].dtype\n",
    "row_count = df_train[\"lat\"].count()\n",
    "null_count = df_train[\"lat\"].isnull().sum()\n",
    "\n",
    "print(\"Variable: lat\")\n",
    "print(f\"Tipo de dato: {dtype}\")\n",
    "print(f\"Row count: {row_count}\")\n",
    "print(f\"Null count: {null_count}\")\n",
    "\n",
    "variables_a_eliminar.append(\"lat\")"
   ]
  },
  {
   "cell_type": "markdown",
   "id": "10febddf",
   "metadata": {},
   "source": [
    "Lon"
   ]
  },
  {
   "cell_type": "code",
   "execution_count": 155,
   "id": "023737b4",
   "metadata": {},
   "outputs": [
    {
     "name": "stdout",
     "output_type": "stream",
     "text": [
      "Variable: lon\n",
      "Tipo de dato: float64\n",
      "Row count: 67498\n",
      "Null count: 9486\n"
     ]
    }
   ],
   "source": [
    "# Si no tuvieramos las variables l1 y l2 podría sernos útil, en este caso la descartamos.\n",
    "\n",
    "dtype = df_train[\"lon\"].dtype\n",
    "row_count = df_train[\"lon\"].count()\n",
    "null_count = df_train[\"lon\"].isnull().sum()\n",
    "\n",
    "print(\"Variable: lon\")\n",
    "print(f\"Tipo de dato: {dtype}\")\n",
    "print(f\"Row count: {row_count}\")\n",
    "print(f\"Null count: {null_count}\")\n",
    "\n",
    "variables_a_eliminar.append(\"lon\")"
   ]
  },
  {
   "cell_type": "markdown",
   "id": "c82dc17c",
   "metadata": {},
   "source": [
    "rooms"
   ]
  },
  {
   "cell_type": "code",
   "execution_count": 156,
   "id": "ec70a563",
   "metadata": {},
   "outputs": [
    {
     "name": "stdout",
     "output_type": "stream",
     "text": [
      "Variable: rooms\n",
      "Tipo de dato: float64\n",
      "Row count: 59968\n",
      "Null count: 17016\n"
     ]
    }
   ],
   "source": [
    "dtype = df_train[\"rooms\"].dtype\n",
    "row_count = df_train[\"rooms\"].count()\n",
    "null_count = df_train[\"rooms\"].isnull().sum()\n",
    "\n",
    "print(\"Variable: rooms\")\n",
    "print(f\"Tipo de dato: {dtype}\")\n",
    "print(f\"Row count: {row_count}\")\n",
    "print(f\"Null count: {null_count}\")\n",
    "\n",
    "## Intuimos que puede tener poder predictivo, por ahora la mantenemos\n",
    "## Podemos cambiar el tipo a INT\n",
    "df_train['rooms'] = df_train['rooms'].astype('Int64')\n"
   ]
  },
  {
   "cell_type": "markdown",
   "id": "36dc3ed2",
   "metadata": {},
   "source": [
    "bedrooms"
   ]
  },
  {
   "cell_type": "code",
   "execution_count": 157,
   "id": "70ffc824",
   "metadata": {},
   "outputs": [
    {
     "name": "stdout",
     "output_type": "stream",
     "text": [
      "Variable: bedrooms\n",
      "Tipo de dato: float64\n",
      "Row count: 38049\n",
      "Null count: 38935\n"
     ]
    }
   ],
   "source": [
    "dtype = df_train[\"bedrooms\"].dtype\n",
    "row_count = df_train[\"bedrooms\"].count()\n",
    "null_count = df_train[\"bedrooms\"].isnull().sum()\n",
    "\n",
    "print(\"Variable: bedrooms\")\n",
    "print(f\"Tipo de dato: {dtype}\")\n",
    "print(f\"Row count: {row_count}\")\n",
    "print(f\"Null count: {null_count}\")\n",
    "\n",
    "## La mitad de los registros son nulos, se podrán imputar? Por ahora la mantenemos. \n",
    "## Podemos cambiar el tipo a INT\n",
    "df_train['bedrooms'] = df_train['bedrooms'].astype('Int64')"
   ]
  },
  {
   "cell_type": "markdown",
   "id": "2b4e1776",
   "metadata": {},
   "source": [
    "bathrooms"
   ]
  },
  {
   "cell_type": "code",
   "execution_count": 158,
   "id": "6545c9dc",
   "metadata": {},
   "outputs": [
    {
     "name": "stdout",
     "output_type": "stream",
     "text": [
      "Variable: bathrooms\n",
      "Tipo de dato: float64\n",
      "Row count: 71826\n",
      "Null count: 5158\n"
     ]
    }
   ],
   "source": [
    "dtype = df_train[\"bathrooms\"].dtype\n",
    "row_count = df_train[\"bathrooms\"].count()\n",
    "null_count = df_train[\"bathrooms\"].isnull().sum()\n",
    "\n",
    "print(\"Variable: bathrooms\")\n",
    "print(f\"Tipo de dato: {dtype}\")\n",
    "print(f\"Row count: {row_count}\")\n",
    "print(f\"Null count: {null_count}\")\n",
    "\n",
    "## Pocos nulos, tendrá poder predictivo? Por ahora la mantenemos. \n",
    "## Podemos cambiar el tipo a INT\n",
    "df_train['bathrooms'] = df_train['bathrooms'].astype('Int64')"
   ]
  },
  {
   "cell_type": "markdown",
   "id": "44acf3ab",
   "metadata": {},
   "source": [
    "surface_total"
   ]
  },
  {
   "cell_type": "code",
   "execution_count": 159,
   "id": "219de014",
   "metadata": {},
   "outputs": [
    {
     "name": "stdout",
     "output_type": "stream",
     "text": [
      "Variable: surface_total\n",
      "Tipo de dato: float64\n",
      "Row count: 43049\n",
      "Null count: 33935\n",
      "Cantidad de registros con decimales: 0\n"
     ]
    }
   ],
   "source": [
    "dtype = df_train[\"surface_total\"].dtype\n",
    "row_count = df_train[\"surface_total\"].count()\n",
    "null_count = df_train[\"surface_total\"].isnull().sum()\n",
    "\n",
    "print(\"Variable: surface_total\")\n",
    "print(f\"Tipo de dato: {dtype}\")\n",
    "print(f\"Row count: {row_count}\")\n",
    "print(f\"Null count: {null_count}\")\n",
    "\n",
    "# Es un float64, tiene valores decimales?\n",
    "valores_no_nulos = df_train[\"surface_total\"].dropna()\n",
    "cantidad_decimales = (valores_no_nulos % 1 != 0).sum()\n",
    "print(f\"Cantidad de registros con decimales: {cantidad_decimales}\")\n",
    "\n",
    "# Ningun registro tiene valores decimales, podríamos pasar la variable a INT.\n",
    "df_train['surface_total'] = df_train['surface_total'].astype('Int64')\n",
    "\n",
    "# Podría tener poder predictivo, por ahora la mantenemos."
   ]
  },
  {
   "cell_type": "markdown",
   "id": "76744711",
   "metadata": {},
   "source": [
    "surface_covered"
   ]
  },
  {
   "cell_type": "code",
   "execution_count": 160,
   "id": "7fe0dd7b",
   "metadata": {},
   "outputs": [
    {
     "name": "stdout",
     "output_type": "stream",
     "text": [
      "Variable: surface_covered\n",
      "Tipo de dato: float64\n",
      "Row count: 45717\n",
      "Null count: 31267\n",
      "Cantidad de registros con decimales: 0\n"
     ]
    }
   ],
   "source": [
    "dtype = df_train[\"surface_covered\"].dtype\n",
    "row_count = df_train[\"surface_covered\"].count()\n",
    "null_count = df_train[\"surface_covered\"].isnull().sum()\n",
    "\n",
    "print(\"Variable: surface_covered\")\n",
    "print(f\"Tipo de dato: {dtype}\")\n",
    "print(f\"Row count: {row_count}\")\n",
    "print(f\"Null count: {null_count}\")\n",
    "\n",
    "# Es un float64, tiene valores decimales?\n",
    "valores_no_nulos = df_train[\"surface_covered\"].dropna()\n",
    "cantidad_decimales = (valores_no_nulos % 1 != 0).sum()\n",
    "print(f\"Cantidad de registros con decimales: {cantidad_decimales}\")\n",
    "\n",
    "# Ningun registro tiene valores decimales, podríamos pasar la variable a INT.\n",
    "df_train['surface_covered'] = df_train['surface_covered'].astype('Int64')\n",
    "\n",
    "# Podría tener poder predictivo, por ahora la mantenemos."
   ]
  },
  {
   "cell_type": "markdown",
   "id": "e3787554",
   "metadata": {},
   "source": [
    "price_period"
   ]
  },
  {
   "cell_type": "code",
   "execution_count": 161,
   "id": "f0cecfe0",
   "metadata": {},
   "outputs": [
    {
     "name": "stdout",
     "output_type": "stream",
     "text": [
      "Variable: price_period\n",
      "Tipo de dato: object\n",
      "Row count: 25755\n",
      "Null count: 51229\n",
      "[nan 'Mensual']\n"
     ]
    }
   ],
   "source": [
    "dtype = df_train[\"price_period\"].dtype\n",
    "row_count = df_train[\"price_period\"].count()\n",
    "null_count = df_train[\"price_period\"].isnull().sum()\n",
    "\n",
    "print(\"Variable: price_period\")\n",
    "print(f\"Tipo de dato: {dtype}\")\n",
    "print(f\"Row count: {row_count}\")\n",
    "print(f\"Null count: {null_count}\")\n",
    "print(df_train[\"price_period\"].unique())\n",
    "\n",
    "## Solo Nulos y mensual. En clase sacar data de esta variable\n",
    "## Los nulos serán tambien un dato? investigar"
   ]
  },
  {
   "cell_type": "markdown",
   "id": "1287f01e",
   "metadata": {},
   "source": [
    "title"
   ]
  },
  {
   "cell_type": "code",
   "execution_count": 162,
   "id": "4c7be637",
   "metadata": {},
   "outputs": [
    {
     "name": "stdout",
     "output_type": "stream",
     "text": [
      "Variable: price_period\n",
      "Tipo de dato: object\n",
      "Row count: 76984\n",
      "Null count: 0\n",
      "['Venta depto dos ambientes con frente abierto'\n",
      " 'VENTA 4 AMBIENTES C COCHERA FIJA MUY LUMINOSO'\n",
      " 'Monoambiente con entrepiso-A 150 mts de Av- Shaw-' ...\n",
      " 'Alsina  800 - U$D 95.000 - Departamento en Venta'\n",
      " 'VENTA DEPARTAMENTO+LOFT 4 AMBIENTE EN MUÑIZ'\n",
      " 'RETASADO!!! VENTA 3 AMB Exclusiva zona La Imprenta &amp; Cañitas-Frente-Balcón-Cochera ']\n"
     ]
    }
   ],
   "source": [
    "dtype = df_train[\"title\"].dtype\n",
    "row_count = df_train[\"title\"].count()\n",
    "null_count = df_train[\"title\"].isnull().sum()\n",
    "\n",
    "print(\"Variable: price_period\")\n",
    "print(f\"Tipo de dato: {dtype}\")\n",
    "print(f\"Row count: {row_count}\")\n",
    "print(f\"Null count: {null_count}\")\n",
    "print(df_train[\"title\"].unique())\n",
    "\n",
    "## Es el titulo de la publicacion, no hay poder predictivo\n",
    "variables_a_eliminar.append(\"title\")"
   ]
  },
  {
   "cell_type": "markdown",
   "id": "483c72dc",
   "metadata": {},
   "source": [
    "### Valores faltantes o nulos"
   ]
  },
  {
   "cell_type": "markdown",
   "id": "4cc7d650",
   "metadata": {},
   "source": [
    "* Obtenemos el número de nulos existentes en los datasets\n",
    "* Si alguna columna presenta nulos, debemos saber como analizar según el tipo de variable y el contexto. Por ejemplo, si es numérica debemos reemplazar con 0 o el avg; si es categórica, podemos reemplazar el nulo con un dato significativo"
   ]
  },
  {
   "cell_type": "code",
   "execution_count": 163,
   "id": "b8132de1",
   "metadata": {},
   "outputs": [
    {
     "name": "stdout",
     "output_type": "stream",
     "text": [
      "Columnas con valores faltantes:\n"
     ]
    },
    {
     "data": {
      "text/html": [
       "<div>\n",
       "<style scoped>\n",
       "    .dataframe tbody tr th:only-of-type {\n",
       "        vertical-align: middle;\n",
       "    }\n",
       "\n",
       "    .dataframe tbody tr th {\n",
       "        vertical-align: top;\n",
       "    }\n",
       "\n",
       "    .dataframe thead th {\n",
       "        text-align: right;\n",
       "    }\n",
       "</style>\n",
       "<table border=\"1\" class=\"dataframe\">\n",
       "  <thead>\n",
       "    <tr style=\"text-align: right;\">\n",
       "      <th></th>\n",
       "      <th>nulos</th>\n",
       "      <th>pct_nulos</th>\n",
       "    </tr>\n",
       "  </thead>\n",
       "  <tbody>\n",
       "    <tr>\n",
       "      <th>l6</th>\n",
       "      <td>76984</td>\n",
       "      <td>100.00</td>\n",
       "    </tr>\n",
       "    <tr>\n",
       "      <th>l5</th>\n",
       "      <td>76825</td>\n",
       "      <td>99.79</td>\n",
       "    </tr>\n",
       "    <tr>\n",
       "      <th>l4</th>\n",
       "      <td>62207</td>\n",
       "      <td>80.81</td>\n",
       "    </tr>\n",
       "    <tr>\n",
       "      <th>price_period</th>\n",
       "      <td>51229</td>\n",
       "      <td>66.54</td>\n",
       "    </tr>\n",
       "    <tr>\n",
       "      <th>bedrooms</th>\n",
       "      <td>38935</td>\n",
       "      <td>50.58</td>\n",
       "    </tr>\n",
       "    <tr>\n",
       "      <th>surface_total</th>\n",
       "      <td>33935</td>\n",
       "      <td>44.08</td>\n",
       "    </tr>\n",
       "    <tr>\n",
       "      <th>surface_covered</th>\n",
       "      <td>31267</td>\n",
       "      <td>40.61</td>\n",
       "    </tr>\n",
       "    <tr>\n",
       "      <th>rooms</th>\n",
       "      <td>17016</td>\n",
       "      <td>22.10</td>\n",
       "    </tr>\n",
       "    <tr>\n",
       "      <th>lon</th>\n",
       "      <td>9486</td>\n",
       "      <td>12.32</td>\n",
       "    </tr>\n",
       "    <tr>\n",
       "      <th>lat</th>\n",
       "      <td>9341</td>\n",
       "      <td>12.13</td>\n",
       "    </tr>\n",
       "    <tr>\n",
       "      <th>bathrooms</th>\n",
       "      <td>5158</td>\n",
       "      <td>6.70</td>\n",
       "    </tr>\n",
       "    <tr>\n",
       "      <th>l3</th>\n",
       "      <td>4498</td>\n",
       "      <td>5.84</td>\n",
       "    </tr>\n",
       "  </tbody>\n",
       "</table>\n",
       "</div>"
      ],
      "text/plain": [
       "                 nulos  pct_nulos\n",
       "l6               76984     100.00\n",
       "l5               76825      99.79\n",
       "l4               62207      80.81\n",
       "price_period     51229      66.54\n",
       "bedrooms         38935      50.58\n",
       "surface_total    33935      44.08\n",
       "surface_covered  31267      40.61\n",
       "rooms            17016      22.10\n",
       "lon               9486      12.32\n",
       "lat               9341      12.13\n",
       "bathrooms         5158       6.70\n",
       "l3                4498       5.84"
      ]
     },
     "metadata": {},
     "output_type": "display_data"
    }
   ],
   "source": [
    "missing_counts = df_train.isnull().sum().sort_values(ascending=False)\n",
    "missing_perc = (missing_counts / df_train.shape[0]) * 100\n",
    "\n",
    "df_missing = pd.DataFrame({\n",
    "    \"nulos\": missing_counts,\n",
    "    \"pct_nulos\": missing_perc.round(2)\n",
    "}).loc[missing_perc > 0]  # solo se muestran las columnas con > 0% nulos\n",
    "\n",
    "print(\"Columnas con valores faltantes:\")\n",
    "display(df_missing)"
   ]
  },
  {
   "cell_type": "code",
   "execution_count": 164,
   "id": "28b4e4c5",
   "metadata": {},
   "outputs": [
    {
     "name": "stdout",
     "output_type": "stream",
     "text": [
      "Cantidad total de filas: 76984\n",
      "Cantidad de filas sin ningún nulo: 0\n",
      "Porcentaje de filas que conservarías: 0.0 %\n"
     ]
    }
   ],
   "source": [
    "# evaluamos el impacto de eliminar filas con nulos\n",
    "\n",
    "print(\"Cantidad total de filas:\", df_train.shape[0])\n",
    "print(\"Cantidad de filas sin ningún nulo:\", df_train.dropna().shape[0])\n",
    "print(\"Porcentaje de filas que conservarías:\", round(100 * df_train.dropna().shape[0] / df_train.shape[0], 2), \"%\")"
   ]
  },
  {
   "cell_type": "code",
   "execution_count": 165,
   "id": "80cd048f",
   "metadata": {},
   "outputs": [
    {
     "data": {
      "text/html": [
       "<div>\n",
       "<style scoped>\n",
       "    .dataframe tbody tr th:only-of-type {\n",
       "        vertical-align: middle;\n",
       "    }\n",
       "\n",
       "    .dataframe tbody tr th {\n",
       "        vertical-align: top;\n",
       "    }\n",
       "\n",
       "    .dataframe thead th {\n",
       "        text-align: right;\n",
       "    }\n",
       "</style>\n",
       "<table border=\"1\" class=\"dataframe\">\n",
       "  <thead>\n",
       "    <tr style=\"text-align: right;\">\n",
       "      <th></th>\n",
       "      <th>Nulos</th>\n",
       "      <th>Porcentaje</th>\n",
       "    </tr>\n",
       "  </thead>\n",
       "  <tbody>\n",
       "    <tr>\n",
       "      <th>l6</th>\n",
       "      <td>76984</td>\n",
       "      <td>1.00</td>\n",
       "    </tr>\n",
       "    <tr>\n",
       "      <th>l5</th>\n",
       "      <td>76825</td>\n",
       "      <td>1.00</td>\n",
       "    </tr>\n",
       "    <tr>\n",
       "      <th>l4</th>\n",
       "      <td>62207</td>\n",
       "      <td>0.81</td>\n",
       "    </tr>\n",
       "    <tr>\n",
       "      <th>price_period</th>\n",
       "      <td>51229</td>\n",
       "      <td>0.67</td>\n",
       "    </tr>\n",
       "    <tr>\n",
       "      <th>bedrooms</th>\n",
       "      <td>38935</td>\n",
       "      <td>0.51</td>\n",
       "    </tr>\n",
       "    <tr>\n",
       "      <th>surface_total</th>\n",
       "      <td>33935</td>\n",
       "      <td>0.44</td>\n",
       "    </tr>\n",
       "    <tr>\n",
       "      <th>surface_covered</th>\n",
       "      <td>31267</td>\n",
       "      <td>0.41</td>\n",
       "    </tr>\n",
       "    <tr>\n",
       "      <th>rooms</th>\n",
       "      <td>17016</td>\n",
       "      <td>0.22</td>\n",
       "    </tr>\n",
       "    <tr>\n",
       "      <th>lon</th>\n",
       "      <td>9486</td>\n",
       "      <td>0.12</td>\n",
       "    </tr>\n",
       "    <tr>\n",
       "      <th>lat</th>\n",
       "      <td>9341</td>\n",
       "      <td>0.12</td>\n",
       "    </tr>\n",
       "    <tr>\n",
       "      <th>bathrooms</th>\n",
       "      <td>5158</td>\n",
       "      <td>0.07</td>\n",
       "    </tr>\n",
       "    <tr>\n",
       "      <th>l3</th>\n",
       "      <td>4498</td>\n",
       "      <td>0.06</td>\n",
       "    </tr>\n",
       "    <tr>\n",
       "      <th>created_on</th>\n",
       "      <td>0</td>\n",
       "      <td>0.00</td>\n",
       "    </tr>\n",
       "    <tr>\n",
       "      <th>end_date</th>\n",
       "      <td>0</td>\n",
       "      <td>0.00</td>\n",
       "    </tr>\n",
       "    <tr>\n",
       "      <th>start_date</th>\n",
       "      <td>0</td>\n",
       "      <td>0.00</td>\n",
       "    </tr>\n",
       "    <tr>\n",
       "      <th>ad_type</th>\n",
       "      <td>0</td>\n",
       "      <td>0.00</td>\n",
       "    </tr>\n",
       "    <tr>\n",
       "      <th>l1</th>\n",
       "      <td>0</td>\n",
       "      <td>0.00</td>\n",
       "    </tr>\n",
       "    <tr>\n",
       "      <th>l2</th>\n",
       "      <td>0</td>\n",
       "      <td>0.00</td>\n",
       "    </tr>\n",
       "    <tr>\n",
       "      <th>title</th>\n",
       "      <td>0</td>\n",
       "      <td>0.00</td>\n",
       "    </tr>\n",
       "    <tr>\n",
       "      <th>paga_comision</th>\n",
       "      <td>0</td>\n",
       "      <td>0.00</td>\n",
       "    </tr>\n",
       "  </tbody>\n",
       "</table>\n",
       "</div>"
      ],
      "text/plain": [
       "                 Nulos  Porcentaje\n",
       "l6               76984        1.00\n",
       "l5               76825        1.00\n",
       "l4               62207        0.81\n",
       "price_period     51229        0.67\n",
       "bedrooms         38935        0.51\n",
       "surface_total    33935        0.44\n",
       "surface_covered  31267        0.41\n",
       "rooms            17016        0.22\n",
       "lon               9486        0.12\n",
       "lat               9341        0.12\n",
       "bathrooms         5158        0.07\n",
       "l3                4498        0.06\n",
       "created_on           0        0.00\n",
       "end_date             0        0.00\n",
       "start_date           0        0.00\n",
       "ad_type              0        0.00\n",
       "l1                   0        0.00\n",
       "l2                   0        0.00\n",
       "title                0        0.00\n",
       "paga_comision        0        0.00"
      ]
     },
     "metadata": {},
     "output_type": "display_data"
    }
   ],
   "source": [
    "# según el resultado anterior, vemos que todas las filas del dataset tienen al menos un valor nulo, por lo que eliminar filas no es una opción viable. \n",
    "# si hacemos dropna() perderíamos todo el dataset.\n",
    "\n",
    "# vemos cuantos nulos hay por columna\n",
    "total_filas = df_train.shape[0]\n",
    "nulos_por_col = df_train.isnull().sum().sort_values(ascending=False)\n",
    "porcentaje_nulos = (nulos_por_col / total_filas)\n",
    "\n",
    "nulos_df = pd.DataFrame({\n",
    "    'Nulos': nulos_por_col,\n",
    "    'Porcentaje': porcentaje_nulos.round(2)\n",
    "})\n",
    "\n",
    "display(nulos_df.head(20))  # solo nos quedamos con las primeras 20 filas con nulos"
   ]
  },
  {
   "cell_type": "markdown",
   "id": "32984d26",
   "metadata": {},
   "source": [
    "### Eliminación de columnas con muchos nulos (usando un umbral)"
   ]
  },
  {
   "cell_type": "code",
   "execution_count": 166,
   "id": "9d9d7cd2",
   "metadata": {},
   "outputs": [
    {
     "name": "stdout",
     "output_type": "stream",
     "text": [
      "Columnas con más del % de nulos establecido ( 80.0 %):\n",
      "['l6', 'l5', 'l4']\n",
      "\n",
      "Dataset reducido de forma que se eliminaron las columnas con muchos nulos:\n",
      "Forma original: (76984, 20)\n",
      "Forma reducida: (76984, 17)\n"
     ]
    },
    {
     "data": {
      "text/plain": [
       "ad_type            0.000000\n",
       "start_date         0.000000\n",
       "end_date           0.000000\n",
       "created_on         0.000000\n",
       "l2                 0.000000\n",
       "l1                 0.000000\n",
       "title              0.000000\n",
       "paga_comision      0.000000\n",
       "l3                 0.058428\n",
       "bathrooms          0.067001\n",
       "lat                0.121337\n",
       "lon                0.123220\n",
       "rooms              0.221033\n",
       "surface_covered    0.406149\n",
       "surface_total      0.440806\n",
       "bedrooms           0.505754\n",
       "price_period       0.665450\n",
       "dtype: float64"
      ]
     },
     "metadata": {},
     "output_type": "display_data"
    }
   ],
   "source": [
    "umbral_nulos = 0.8 ## preguntar!!\n",
    "\n",
    "# identificamos las columnas que superan el umbral de nulos\n",
    "cols_muchos_nulos = porcentaje_nulos[porcentaje_nulos > umbral_nulos].index.tolist()\n",
    "\n",
    "print(\"Columnas con más del % de nulos establecido (\", umbral_nulos*100, \"%):\")\n",
    "print(cols_muchos_nulos)\n",
    "\n",
    "# eliminamos las columnas con muchos nulos\n",
    "df_limpio = df_train.drop(columns=cols_muchos_nulos)\n",
    "\n",
    "print(\"\\nDataset reducido de forma que se eliminaron las columnas con muchos nulos:\")\n",
    "print(\"Forma original:\", df_train.shape)    \n",
    "print(\"Forma reducida:\", df_limpio.shape)\n",
    "\n",
    "###### chequeo ######\n",
    "\n",
    "# vemos el porcentaje total de celdas nulas en el dataset limpio\n",
    "display(df_limpio.isnull().mean().sort_values(ascending=True).head(20))\n"
   ]
  }
 ],
 "metadata": {
  "kernelspec": {
   "display_name": "Python 3",
   "language": "python",
   "name": "python3"
  },
  "language_info": {
   "codemirror_mode": {
    "name": "ipython",
    "version": 3
   },
   "file_extension": ".py",
   "mimetype": "text/x-python",
   "name": "python",
   "nbconvert_exporter": "python",
   "pygments_lexer": "ipython3",
   "version": "3.13.9"
  }
 },
 "nbformat": 4,
 "nbformat_minor": 5
}
